{
  "nbformat": 4,
  "nbformat_minor": 0,
  "metadata": {
    "colab": {
      "provenance": [],
      "gpuType": "T4"
    },
    "kernelspec": {
      "name": "python3",
      "display_name": "Python 3"
    },
    "accelerator": "GPU"
  },
  "cells": [
    {
      "cell_type": "markdown",
      "metadata": {
        "id": "_cfwTEquCfGG"
      },
      "source": [
        "# Pytorch\n",
        "\n",
        "PyTorch is a Python-based scientific computing package serving two broad purposes:\n",
        "\n",
        "- A replacement for NumPy to use the power of GPUs and other accelerators.\n",
        "- An automatic differentiation library that is useful to implement neural networks.\n",
        "\n",
        "To install $\\tt{pytorch}$ on your machine follow the instruction here: https://pytorch.org/"
      ]
    },
    {
      "cell_type": "markdown",
      "metadata": {
        "id": "Io1FpiGmFjIj"
      },
      "source": [
        "Load the relevant libraries"
      ]
    },
    {
      "cell_type": "code",
      "metadata": {
        "id": "3nxtFanzCawt"
      },
      "source": [
        "import torch\n",
        "import numpy as np"
      ],
      "execution_count": null,
      "outputs": []
    },
    {
      "cell_type": "markdown",
      "metadata": {
        "id": "lMsdrZJsHJQZ"
      },
      "source": [
        "#### Creating tensors"
      ]
    },
    {
      "cell_type": "code",
      "metadata": {
        "id": "dNXqZU_MHI5P",
        "colab": {
          "base_uri": "https://localhost:8080/"
        },
        "outputId": "ebdc5fc9-4c05-434e-964c-c8d5ecb3dfb8"
      },
      "source": [
        "# define a tensor manually\n",
        "t = torch.tensor([1.4, 2.2, 3.5])\n",
        "\n",
        "# create it from numpy arrays\n",
        "a  = np.random.random((10,1))             #define the numpy array\n",
        "t1 = torch.tensor(a)                      #create tensor; data type is the same as numpy array\n",
        "t2 = torch.tensor(a, dtype=torch.float32) #specify data type if needed\n",
        "t3 = torch.Tensor(a)                      #same as t1 but will set dtype to be float32 (standard pytorch dtype)\n",
        "t4 = torch.as_tensor(a)                   #same dtype as numpy array\n",
        "t5 = torch.from_numpy(a)                  #same dtype as numpy array\n",
        "# t1, t2, and t3 will create a copy of the data a\n",
        "# t4 and t5 will share the data with a\n",
        "\n",
        "# lets see the data and their type\n",
        "print('a=',a)\n",
        "print('a type:',a.dtype)\n",
        "print('t1=',t1)\n",
        "print('data type:',t1.dtype)\n",
        "print('t2=',t2)\n",
        "print('data type:',t2.dtype)\n",
        "print('t3=',t3)\n",
        "print('data type:',t3.dtype)\n",
        "print('t4=',t4)\n",
        "print('data type:',t4.dtype)\n",
        "print('t5=',t5)\n",
        "print('data type:',t5.dtype)"
      ],
      "execution_count": null,
      "outputs": [
        {
          "output_type": "stream",
          "name": "stdout",
          "text": [
            "a= [[0.56457933]\n",
            " [0.08321875]\n",
            " [0.2832025 ]\n",
            " [0.02460751]\n",
            " [0.8432173 ]\n",
            " [0.61016326]\n",
            " [0.94959666]\n",
            " [0.50300741]\n",
            " [0.67701491]\n",
            " [0.02432517]]\n",
            "a type: float64\n",
            "t1= tensor([[0.5646],\n",
            "        [0.0832],\n",
            "        [0.2832],\n",
            "        [0.0246],\n",
            "        [0.8432],\n",
            "        [0.6102],\n",
            "        [0.9496],\n",
            "        [0.5030],\n",
            "        [0.6770],\n",
            "        [0.0243]], dtype=torch.float64)\n",
            "data type: torch.float64\n",
            "t2= tensor([[0.5646],\n",
            "        [0.0832],\n",
            "        [0.2832],\n",
            "        [0.0246],\n",
            "        [0.8432],\n",
            "        [0.6102],\n",
            "        [0.9496],\n",
            "        [0.5030],\n",
            "        [0.6770],\n",
            "        [0.0243]])\n",
            "data type: torch.float32\n",
            "t3= tensor([[0.5646],\n",
            "        [0.0832],\n",
            "        [0.2832],\n",
            "        [0.0246],\n",
            "        [0.8432],\n",
            "        [0.6102],\n",
            "        [0.9496],\n",
            "        [0.5030],\n",
            "        [0.6770],\n",
            "        [0.0243]])\n",
            "data type: torch.float32\n",
            "t4= tensor([[0.5646],\n",
            "        [0.0832],\n",
            "        [0.2832],\n",
            "        [0.0246],\n",
            "        [0.8432],\n",
            "        [0.6102],\n",
            "        [0.9496],\n",
            "        [0.5030],\n",
            "        [0.6770],\n",
            "        [0.0243]], dtype=torch.float64)\n",
            "data type: torch.float64\n",
            "t5= tensor([[0.5646],\n",
            "        [0.0832],\n",
            "        [0.2832],\n",
            "        [0.0246],\n",
            "        [0.8432],\n",
            "        [0.6102],\n",
            "        [0.9496],\n",
            "        [0.5030],\n",
            "        [0.6770],\n",
            "        [0.0243]], dtype=torch.float64)\n",
            "data type: torch.float64\n"
          ]
        }
      ]
    },
    {
      "cell_type": "code",
      "source": [
        "# to convert a torch tensor to numpy:\n",
        "t = torch.tensor([1.4, 2.2, 3.5])\n",
        "n = t.numpy()\n",
        "print('numpy array',n,'type',n.dtype)"
      ],
      "metadata": {
        "id": "ffF74P7vck6l",
        "colab": {
          "base_uri": "https://localhost:8080/"
        },
        "outputId": "092e1050-d6da-4fa9-8914-281aba8e6619"
      },
      "execution_count": null,
      "outputs": [
        {
          "output_type": "stream",
          "name": "stdout",
          "text": [
            "numpy array [1.4 2.2 3.5] type float32\n"
          ]
        }
      ]
    },
    {
      "cell_type": "markdown",
      "metadata": {
        "id": "kaENFE3zuuto"
      },
      "source": [
        "#### Tensor properties"
      ]
    },
    {
      "cell_type": "code",
      "metadata": {
        "id": "Bn3EQWi5SQAa",
        "colab": {
          "base_uri": "https://localhost:8080/"
        },
        "outputId": "ffdf5779-091e-42e4-9677-ed7d817fb398"
      },
      "source": [
        "# tensor attributes\n",
        "print('t2 shape:',t2.shape)\n",
        "print('t2 type:',t2.dtype)\n",
        "print('device where t2 is allocated:',t2.device)"
      ],
      "execution_count": null,
      "outputs": [
        {
          "output_type": "stream",
          "name": "stdout",
          "text": [
            "t2 shape: torch.Size([10, 1])\n",
            "t2 type: torch.float32\n",
            "device where t2 is allocated: cpu\n"
          ]
        }
      ]
    },
    {
      "cell_type": "markdown",
      "metadata": {
        "id": "SKT_Xv3Rya8T"
      },
      "source": [
        "#### Useful functions"
      ]
    },
    {
      "cell_type": "code",
      "metadata": {
        "id": "NoAji_B9u8CC",
        "colab": {
          "base_uri": "https://localhost:8080/"
        },
        "outputId": "3e57d510-48dc-412a-f0ec-bc6d75593395"
      },
      "source": [
        "a = torch.eye(2)     #creates diagonal matrix with 2x2 elements: [[1.,0.],[0.,1.]]\n",
        "b = torch.zeros(2,2) #fill a 2x2 matrix with zeros\n",
        "c = torch.ones(2,2)  #fill a 2x2 matrix with ones\n",
        "print('a =',a)\n",
        "print('b =',b)\n",
        "print('c =',c)\n",
        "print(a.dtype, b.dtype, c.dtype)"
      ],
      "execution_count": null,
      "outputs": [
        {
          "output_type": "stream",
          "name": "stdout",
          "text": [
            "a = tensor([[1., 0.],\n",
            "        [0., 1.]])\n",
            "b = tensor([[0., 0.],\n",
            "        [0., 0.]])\n",
            "c = tensor([[1., 1.],\n",
            "        [1., 1.]])\n",
            "torch.float32 torch.float32 torch.float32\n"
          ]
        }
      ]
    },
    {
      "cell_type": "markdown",
      "metadata": {
        "id": "18MU5-CTFT5W"
      },
      "source": [
        "#### Random numbers"
      ]
    },
    {
      "cell_type": "code",
      "metadata": {
        "id": "f29a6RLUFVyV",
        "colab": {
          "base_uri": "https://localhost:8080/"
        },
        "outputId": "12895373-23c1-4078-cb9e-89f38b718651"
      },
      "source": [
        "seed = 1\n",
        "num_random = 10\n",
        "torch.manual_seed(seed)\n",
        "t_uniform = torch.rand(num_random)\n",
        "print(t_uniform)\n",
        "mu = 2.\n",
        "sigma = 3.\n",
        "t_normal = torch.normal(mu,sigma,size=(1,num_random))\n",
        "print(t_normal)"
      ],
      "execution_count": null,
      "outputs": [
        {
          "output_type": "stream",
          "name": "stdout",
          "text": [
            "tensor([0.7576, 0.2793, 0.4031, 0.7347, 0.0293, 0.7999, 0.3971, 0.7544, 0.5695,\n",
            "        0.4388])\n",
            "tensor([[ 4.5770,  4.1168,  0.9783, -1.8160, -1.5845,  2.0751, -0.2881,  6.1908,\n",
            "          1.0265,  2.8636]])\n"
          ]
        }
      ]
    },
    {
      "cell_type": "markdown",
      "metadata": {
        "id": "GhHxsGvBN-pH"
      },
      "source": [
        "#### More pytorch functions"
      ]
    },
    {
      "cell_type": "code",
      "metadata": {
        "id": "HGc_oQLzOB9z",
        "colab": {
          "base_uri": "https://localhost:8080/"
        },
        "outputId": "7743568f-aaf3-490a-ecee-2e797c22a84d"
      },
      "source": [
        "# get a tensor\n",
        "t = torch.tensor([[1.1, 2.1, 3.5],[-1.0, 0.0, 0.9],[3.1, -8.2, 7.2]], dtype=torch.float32)\n",
        "print(t.shape)\n",
        "print(t,'\\n')\n",
        "\n",
        "# print the results of some conditional operations (0-False, 1-True)\n",
        "print('where t==0:')\n",
        "print(t.eq(0),'\\n')  #where the tensor is equal to 0\n",
        "print('where t>=0:')\n",
        "print(t.ge(0),'\\n')  #where the tensor is equal or greater than 0\n",
        "print('where t>0:')\n",
        "print(t.gt(0),'\\n')  #where the tensor is greater than 0\n",
        "print('where t<=0:')\n",
        "print(t.le(0),'\\n')  #where the tensor is equal or less than 0\n",
        "print('where t<0:')\n",
        "print(t.lt(0),'\\n')  #where the tensor is less than\n",
        "\n",
        "# frequently used operations\n",
        "print('Total sum:',t.sum())\n",
        "print('Sum along first axis:',t.sum(dim=0))\n",
        "print('Mean value:',t.mean())\n",
        "print('standard deviation:',t.std())\n",
        "print('Maximum value:', t.max())\n",
        "print('Maximum value along first axis:',t.max(dim=0))\n",
        "print('index of the maximum value in the tensor:',t.argmax()) #gives the index of the maximum value in t\n",
        "print('transpose of tensor:')\n",
        "print(t.t(),'\\n') #transpose of a tensor\n",
        "\n",
        "# other operations\n",
        "print('abs(t):')\n",
        "print(t.abs(),'\\n') #absolute value\n",
        "print('sqrt(t):')\n",
        "print(t.sqrt(),'\\n')\n",
        "print('-t:')\n",
        "print(t.neg(),'\\n')  #return the negative values of the tensor\n",
        "print('t0*t1*t2*....:')\n",
        "print(t.prod(),'\\n') #product of all elements\n",
        "\n",
        "# get the scalar value, not a tensor (NOTE: it works only for tensors with one element)\n",
        "print('mean value (scalar):',t.mean().item())"
      ],
      "execution_count": null,
      "outputs": [
        {
          "output_type": "stream",
          "name": "stdout",
          "text": [
            "torch.Size([3, 3])\n",
            "tensor([[ 1.1000,  2.1000,  3.5000],\n",
            "        [-1.0000,  0.0000,  0.9000],\n",
            "        [ 3.1000, -8.2000,  7.2000]]) \n",
            "\n",
            "where t==0:\n",
            "tensor([[False, False, False],\n",
            "        [False,  True, False],\n",
            "        [False, False, False]]) \n",
            "\n",
            "where t>=0:\n",
            "tensor([[ True,  True,  True],\n",
            "        [False,  True,  True],\n",
            "        [ True, False,  True]]) \n",
            "\n",
            "where t>0:\n",
            "tensor([[ True,  True,  True],\n",
            "        [False, False,  True],\n",
            "        [ True, False,  True]]) \n",
            "\n",
            "where t<=0:\n",
            "tensor([[False, False, False],\n",
            "        [ True,  True, False],\n",
            "        [False,  True, False]]) \n",
            "\n",
            "where t<0:\n",
            "tensor([[False, False, False],\n",
            "        [ True, False, False],\n",
            "        [False,  True, False]]) \n",
            "\n",
            "Total sum: tensor(8.7000)\n",
            "Sum along first axis: tensor([ 3.2000, -6.1000, 11.6000])\n",
            "Mean value: tensor(0.9667)\n",
            "standard deviation: tensor(4.1827)\n",
            "Maximum value: tensor(7.2000)\n",
            "Maximum value along first axis: torch.return_types.max(\n",
            "values=tensor([3.1000, 2.1000, 7.2000]),\n",
            "indices=tensor([2, 0, 2]))\n",
            "index of the maximum value in the tensor: tensor(8)\n",
            "transpose of tensor:\n",
            "tensor([[ 1.1000, -1.0000,  3.1000],\n",
            "        [ 2.1000,  0.0000, -8.2000],\n",
            "        [ 3.5000,  0.9000,  7.2000]]) \n",
            "\n",
            "abs(t):\n",
            "tensor([[1.1000, 2.1000, 3.5000],\n",
            "        [1.0000, 0.0000, 0.9000],\n",
            "        [3.1000, 8.2000, 7.2000]]) \n",
            "\n",
            "sqrt(t):\n",
            "tensor([[1.0488, 1.4491, 1.8708],\n",
            "        [   nan, 0.0000, 0.9487],\n",
            "        [1.7607,    nan, 2.6833]]) \n",
            "\n",
            "-t:\n",
            "tensor([[-1.1000, -2.1000, -3.5000],\n",
            "        [ 1.0000, -0.0000, -0.9000],\n",
            "        [-3.1000,  8.2000, -7.2000]]) \n",
            "\n",
            "t0*t1*t2*....:\n",
            "tensor(0.) \n",
            "\n",
            "mean value (scalar): 0.9666666388511658\n"
          ]
        }
      ]
    },
    {
      "cell_type": "markdown",
      "metadata": {
        "id": "Rr6GtcMfNFPp"
      },
      "source": [
        "#### Indexing and reshaping tensors"
      ]
    },
    {
      "cell_type": "code",
      "metadata": {
        "id": "hLovBOerzF9s",
        "colab": {
          "base_uri": "https://localhost:8080/"
        },
        "outputId": "db888a3b-a859-4f4a-b920-3d5f9f04dac1"
      },
      "source": [
        "# define a tensor\n",
        "t = torch.rand((10,3))\n",
        "print('Tensor t:')\n",
        "print(t,'\\n')\n",
        "\n",
        "# tensors can also be indexed as numpy arrays\n",
        "print('Third component of tensor t:')\n",
        "print(t[:,2],'\\n')\n",
        "\n",
        "# reshape/stack\n",
        "print('Reshaping tensor into 5x6 tensor:')\n",
        "print(t.reshape(5,6),'\\n')\n",
        "print('Reshaping tensor into 1x30 tensor:')\n",
        "print(t.reshape(1,-1),'\\n') #for the second dimension pytorch will figure out the correct number\n",
        "\n",
        "# flatten a tensor\n",
        "print('Flattening tensor:')\n",
        "print(t.view(-1))"
      ],
      "execution_count": null,
      "outputs": [
        {
          "output_type": "stream",
          "name": "stdout",
          "text": [
            "Tensor t:\n",
            "tensor([[0.7242, 0.2094, 0.6845],\n",
            "        [0.1917, 0.6557, 0.3600],\n",
            "        [0.6072, 0.8516, 0.6257],\n",
            "        [0.7929, 0.3663, 0.5092],\n",
            "        [0.5924, 0.7022, 0.4002],\n",
            "        [0.7222, 0.1637, 0.7718],\n",
            "        [0.9940, 0.5772, 0.3789],\n",
            "        [0.8765, 0.8261, 0.4247],\n",
            "        [0.2286, 0.0068, 0.9782],\n",
            "        [0.3179, 0.4056, 0.1151]]) \n",
            "\n",
            "Third component of tensor t:\n",
            "tensor([0.6845, 0.3600, 0.6257, 0.5092, 0.4002, 0.7718, 0.3789, 0.4247, 0.9782,\n",
            "        0.1151]) \n",
            "\n",
            "Reshaping tensor into 5x6 tensor:\n",
            "tensor([[0.7242, 0.2094, 0.6845, 0.1917, 0.6557, 0.3600],\n",
            "        [0.6072, 0.8516, 0.6257, 0.7929, 0.3663, 0.5092],\n",
            "        [0.5924, 0.7022, 0.4002, 0.7222, 0.1637, 0.7718],\n",
            "        [0.9940, 0.5772, 0.3789, 0.8765, 0.8261, 0.4247],\n",
            "        [0.2286, 0.0068, 0.9782, 0.3179, 0.4056, 0.1151]]) \n",
            "\n",
            "Reshaping tensor into 1x30 tensor:\n",
            "tensor([[0.7242, 0.2094, 0.6845, 0.1917, 0.6557, 0.3600, 0.6072, 0.8516, 0.6257,\n",
            "         0.7929, 0.3663, 0.5092, 0.5924, 0.7022, 0.4002, 0.7222, 0.1637, 0.7718,\n",
            "         0.9940, 0.5772, 0.3789, 0.8765, 0.8261, 0.4247, 0.2286, 0.0068, 0.9782,\n",
            "         0.3179, 0.4056, 0.1151]]) \n",
            "\n",
            "Flattening tensor:\n",
            "tensor([0.7242, 0.2094, 0.6845, 0.1917, 0.6557, 0.3600, 0.6072, 0.8516, 0.6257,\n",
            "        0.7929, 0.3663, 0.5092, 0.5924, 0.7022, 0.4002, 0.7222, 0.1637, 0.7718,\n",
            "        0.9940, 0.5772, 0.3789, 0.8765, 0.8261, 0.4247, 0.2286, 0.0068, 0.9782,\n",
            "        0.3179, 0.4056, 0.1151])\n"
          ]
        }
      ]
    },
    {
      "cell_type": "markdown",
      "metadata": {
        "id": "swNg9z0QFWch"
      },
      "source": [
        "#### Broadcasting"
      ]
    },
    {
      "cell_type": "code",
      "metadata": {
        "id": "2d2XnePGFaAB",
        "colab": {
          "base_uri": "https://localhost:8080/"
        },
        "outputId": "14af6291-01ee-4e84-e40b-56376ed5726d"
      },
      "source": [
        "# pytorch will do automatic broadcasting\n",
        "t1 = torch.tensor([[1,1],[1,1]], dtype=torch.float32)\n",
        "t2 = torch.tensor([2,4], dtype=torch.float32)\n",
        "# Pytorch only supports operations between same data type tensors (float,int...)\n",
        "print('t1 =',t1)\n",
        "print('t2 =',t2)\n",
        "print('t1+t2 =',t1 + t2)\n",
        "print('t1*t2 =',t1 * t2)\n",
        "\n",
        "# above, t2 is broadcasted to the shape of t1. To see what it is doing use this\n",
        "t2_broadcasted=np.broadcast_to(t2.numpy(), t1.shape)\n",
        "print(t2_broadcasted)"
      ],
      "execution_count": null,
      "outputs": [
        {
          "output_type": "stream",
          "name": "stdout",
          "text": [
            "t1 = tensor([[1., 1.],\n",
            "        [1., 1.]])\n",
            "t2 = tensor([2., 4.])\n",
            "t1+t2 = tensor([[3., 5.],\n",
            "        [3., 5.]])\n",
            "t1*t2 = tensor([[2., 4.],\n",
            "        [2., 4.]])\n",
            "[[2. 4.]\n",
            " [2. 4.]]\n"
          ]
        }
      ]
    },
    {
      "cell_type": "code",
      "source": [
        "# Note that the dimensions of the two tensor should match at non-singleton dimension - i.e.  where the dimensions are different from one - for the broadcast to work:\n",
        "t1 = torch.tensor([[1,1,1],[1,1,1]], dtype=torch.float32)\n",
        "t2 = torch.tensor([2,4], dtype=torch.float32)\n",
        "\n",
        "# # In this case the non-singleton dimension does not match\n",
        "# print('t1 =',t1)\n",
        "# print('t2 =',t2)\n",
        "# print('t1.shape',t1.shape,'t2.shape',t2.shape)\n",
        "# print('t1+t2 =',t1 + t2)\n",
        "\n",
        "# In this case the non-singleton dimension matchs\n",
        "print('t1.T =',t1.T)\n",
        "print('t2 =',t2)\n",
        "print('t1.shape',t1.T.shape,'t2.shape',t2.shape)\n",
        "print('t1+t2 =',t1.T + t2)"
      ],
      "metadata": {
        "id": "q3sedeKYdyga",
        "colab": {
          "base_uri": "https://localhost:8080/"
        },
        "outputId": "bc0069bc-c7ee-4b9c-99a8-5e8c48f1aa45"
      },
      "execution_count": null,
      "outputs": [
        {
          "output_type": "stream",
          "name": "stdout",
          "text": [
            "t1.T = tensor([[1., 1.],\n",
            "        [1., 1.],\n",
            "        [1., 1.]])\n",
            "t2 = tensor([2., 4.])\n",
            "t1.shape torch.Size([3, 2]) t2.shape torch.Size([2])\n",
            "t1+t2 = tensor([[3., 5.],\n",
            "        [3., 5.],\n",
            "        [3., 5.]])\n"
          ]
        }
      ]
    },
    {
      "cell_type": "markdown",
      "metadata": {
        "id": "Vi4R1lHgeIMd"
      },
      "source": [
        "#### Squeezing and unsqueezing"
      ]
    },
    {
      "cell_type": "code",
      "metadata": {
        "id": "jbb9UOWreOGS",
        "colab": {
          "base_uri": "https://localhost:8080/"
        },
        "outputId": "d76a9063-c0c1-40b9-dfb1-2f1e01707244"
      },
      "source": [
        "# create a tensor\n",
        "t = torch.rand(10,3)\n",
        "print(t)\n",
        "print(t.shape)\n",
        "\n",
        "# unsqueeze it (add an extra dimension along first axis)\n",
        "t1 = t.unsqueeze(0) #specify the dimension in the parenthesis\n",
        "print(t1)\n",
        "print(t1.shape)\n",
        "\n",
        "# squeeze it (remove dimension along first axis)\n",
        "t2 = t1.squeeze_(0)\n",
        "print(t2)\n",
        "print(t2.shape)"
      ],
      "execution_count": null,
      "outputs": [
        {
          "output_type": "stream",
          "name": "stdout",
          "text": [
            "tensor([[0.0640, 0.6681, 0.5514],\n",
            "        [0.2704, 0.0460, 0.0156],\n",
            "        [0.0896, 0.2860, 0.8514],\n",
            "        [0.1860, 0.3764, 0.1275],\n",
            "        [0.1657, 0.0880, 0.1324],\n",
            "        [0.0609, 0.2640, 0.5648],\n",
            "        [0.0995, 0.9622, 0.2611],\n",
            "        [0.9181, 0.3376, 0.0313],\n",
            "        [0.5563, 0.3957, 0.3443],\n",
            "        [0.0338, 0.3193, 0.3338]])\n",
            "torch.Size([10, 3])\n",
            "tensor([[[0.0640, 0.6681, 0.5514],\n",
            "         [0.2704, 0.0460, 0.0156],\n",
            "         [0.0896, 0.2860, 0.8514],\n",
            "         [0.1860, 0.3764, 0.1275],\n",
            "         [0.1657, 0.0880, 0.1324],\n",
            "         [0.0609, 0.2640, 0.5648],\n",
            "         [0.0995, 0.9622, 0.2611],\n",
            "         [0.9181, 0.3376, 0.0313],\n",
            "         [0.5563, 0.3957, 0.3443],\n",
            "         [0.0338, 0.3193, 0.3338]]])\n",
            "torch.Size([1, 10, 3])\n",
            "tensor([[0.0640, 0.6681, 0.5514],\n",
            "        [0.2704, 0.0460, 0.0156],\n",
            "        [0.0896, 0.2860, 0.8514],\n",
            "        [0.1860, 0.3764, 0.1275],\n",
            "        [0.1657, 0.0880, 0.1324],\n",
            "        [0.0609, 0.2640, 0.5648],\n",
            "        [0.0995, 0.9622, 0.2611],\n",
            "        [0.9181, 0.3376, 0.0313],\n",
            "        [0.5563, 0.3957, 0.3443],\n",
            "        [0.0338, 0.3193, 0.3338]])\n",
            "torch.Size([10, 3])\n"
          ]
        }
      ]
    },
    {
      "cell_type": "markdown",
      "metadata": {
        "id": "1RXBsikxQ8kT"
      },
      "source": [
        "#### Stack and concatenate tensors"
      ]
    },
    {
      "cell_type": "code",
      "metadata": {
        "id": "C19OPvCjRAK3",
        "colab": {
          "base_uri": "https://localhost:8080/"
        },
        "outputId": "77277eb5-9627-4895-b4c3-694309a536ed"
      },
      "source": [
        "# generate two tensors\n",
        "t1 = torch.zeros(5,2)\n",
        "t2 = torch.ones(5,2)\n",
        "print('t1:',t1)\n",
        "print('t2:',t2)\n",
        "\n",
        "# stack two tensors\n",
        "t = torch.stack((t1,t2))\n",
        "print('t1 t2 stacked:',t,'shape',t.shape)\n",
        "\n",
        "# concatenate along some dimension\n",
        "t = torch.cat((t1,t2),dim=0)\n",
        "print('t1 t2 concatenated:',t,'shape',t.shape)"
      ],
      "execution_count": null,
      "outputs": [
        {
          "output_type": "stream",
          "name": "stdout",
          "text": [
            "t1: tensor([[0., 0.],\n",
            "        [0., 0.],\n",
            "        [0., 0.],\n",
            "        [0., 0.],\n",
            "        [0., 0.]])\n",
            "t2: tensor([[1., 1.],\n",
            "        [1., 1.],\n",
            "        [1., 1.],\n",
            "        [1., 1.],\n",
            "        [1., 1.]])\n",
            "t1 t2 stacked: tensor([[[0., 0.],\n",
            "         [0., 0.],\n",
            "         [0., 0.],\n",
            "         [0., 0.],\n",
            "         [0., 0.]],\n",
            "\n",
            "        [[1., 1.],\n",
            "         [1., 1.],\n",
            "         [1., 1.],\n",
            "         [1., 1.],\n",
            "         [1., 1.]]]) shape torch.Size([2, 5, 2])\n",
            "t1 t2 concatenated: tensor([[0., 0.],\n",
            "        [0., 0.],\n",
            "        [0., 0.],\n",
            "        [0., 0.],\n",
            "        [0., 0.],\n",
            "        [1., 1.],\n",
            "        [1., 1.],\n",
            "        [1., 1.],\n",
            "        [1., 1.],\n",
            "        [1., 1.]]) shape torch.Size([10, 2])\n"
          ]
        }
      ]
    },
    {
      "cell_type": "markdown",
      "metadata": {
        "id": "UdIozn2eHMGH"
      },
      "source": [
        "#### Move data to/from GPU from/to CPU\n",
        "In order to enable the usage of a GPU:\n",
        "\n",
        "Runtime -----> Change runtime type -----> Harwdare accelerator -----> GPU"
      ]
    },
    {
      "cell_type": "code",
      "metadata": {
        "id": "AQMrpZV9FgDU",
        "colab": {
          "base_uri": "https://localhost:8080/"
        },
        "outputId": "0eff500a-17af-4537-9c53-6a30ffb2d942"
      },
      "source": [
        "import torch\n",
        "import numpy as np\n",
        "\n",
        "# find the device\n",
        "if torch.cuda.is_available():\n",
        "    print(\"CUDA Available\")\n",
        "    device = torch.device('cuda')\n",
        "else:\n",
        "    print('CUDA Not Available')\n",
        "    device = torch.device('cpu')\n",
        "\n",
        "# data can be created with numpy in a CPU\n",
        "data = np.random.random((12,2,3)).astype(np.float32)\n",
        "\n",
        "# create a torch tensor\n",
        "data = torch.tensor(data)\n",
        "print('data is located in:',data.device)\n",
        "\n",
        "# move the tensor to the GPU\n",
        "data = data.to(device)\n",
        "print('data is located in:',data.device)\n",
        "\n",
        "# move a tensor to CPU\n",
        "data = (data.cpu())\n",
        "print('data is located in:',data.device)\n",
        "\n",
        "# transform tensor to numpy array\n",
        "data = data.numpy()\n",
        "print(data)"
      ],
      "execution_count": null,
      "outputs": [
        {
          "output_type": "stream",
          "name": "stdout",
          "text": [
            "CUDA Available\n",
            "data is located in: cpu\n",
            "data is located in: cuda:0\n",
            "data is located in: cpu\n",
            "[[[0.10211503 0.38396102 0.8287932 ]\n",
            "  [0.06607524 0.47719672 0.93415195]]\n",
            "\n",
            " [[0.07820678 0.07893415 0.34563246]\n",
            "  [0.97677094 0.7854215  0.3837668 ]]\n",
            "\n",
            " [[0.6939686  0.5540304  0.7352282 ]\n",
            "  [0.9159746  0.0769287  0.2910081 ]]\n",
            "\n",
            " [[0.77650595 0.9956301  0.11880538]\n",
            "  [0.37620354 0.7485959  0.33982742]]\n",
            "\n",
            " [[0.33691338 0.24326767 0.83621645]\n",
            "  [0.6818596  0.9254298  0.5633282 ]]\n",
            "\n",
            " [[0.54119277 0.27168715 0.2053981 ]\n",
            "  [0.06946807 0.6055843  0.73311937]]\n",
            "\n",
            " [[0.6811511  0.41332123 0.7441994 ]\n",
            "  [0.51792604 0.47063282 0.4662997 ]]\n",
            "\n",
            " [[0.2623345  0.52072644 0.0486535 ]\n",
            "  [0.86208904 0.3234983  0.05580842]]\n",
            "\n",
            " [[0.2523877  0.4404661  0.9529301 ]\n",
            "  [0.9354438  0.9198461  0.3507259 ]]\n",
            "\n",
            " [[0.43801883 0.34412053 0.76697403]\n",
            "  [0.90787464 0.23190951 0.4072504 ]]\n",
            "\n",
            " [[0.7928627  0.7115617  0.82601154]\n",
            "  [0.53435624 0.98163295 0.02476547]]\n",
            "\n",
            " [[0.28431007 0.6822642  0.47597733]\n",
            "  [0.7105993  0.6914443  0.3180777 ]]]\n"
          ]
        }
      ]
    },
    {
      "cell_type": "markdown",
      "metadata": {
        "id": "n_Mf8MYAUJ1E"
      },
      "source": [
        "#### For backpropagation we need to keep the gradients\n",
        "\n",
        "\n",
        "\n",
        "\n",
        "\n",
        "\n"
      ]
    },
    {
      "cell_type": "code",
      "metadata": {
        "id": "O0LjDSx3Hji2",
        "colab": {
          "base_uri": "https://localhost:8080/"
        },
        "outputId": "14ae49ca-9d25-4797-83a5-c540169504cb"
      },
      "source": [
        "# define a tensor as part of graph\n",
        "t = torch.tensor([1.0, 2.0, 3.0], requires_grad=True)\n",
        "\n",
        "# check if a tensor has gradients\n",
        "t.requires_grad"
      ],
      "execution_count": null,
      "outputs": [
        {
          "output_type": "execute_result",
          "data": {
            "text/plain": [
              "True"
            ]
          },
          "metadata": {},
          "execution_count": 3
        }
      ]
    },
    {
      "cell_type": "markdown",
      "metadata": {
        "id": "IKpN9_QQFNkb"
      },
      "source": [
        "### **Exercise**: Generate a mock traning set as follows:\n",
        "- $\\mathbf{x}$: 100 points random points following uniform distribution between 0 and 5,\n",
        "- $\\mathbf{y}(x)$: 100 point following a Gaussian distribution with mean $5+3x$ and standard deviation $0.3$.\n",
        "- Plot the data (import matplotlib.pyplot as plt).\n",
        "- Put that data into a tensor and move it to the GPU.\n",
        "- Compute the mean and the standard deviation in the GPU and print the results."
      ]
    },
    {
      "cell_type": "code",
      "metadata": {
        "id": "THWM71RhGas0"
      },
      "source": [],
      "execution_count": null,
      "outputs": []
    }
  ]
}