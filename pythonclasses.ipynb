{
 "cells": [
  {
   "cell_type": "markdown",
   "id": "96b8eb62",
   "metadata": {
    "slideshow": {
     "slide_type": "slide"
    }
   },
   "source": [
    "# Una classe sulle classi di Python"
   ]
  },
  {
   "cell_type": "markdown",
   "id": "90de6d0f",
   "metadata": {
    "slideshow": {
     "slide_type": "slide"
    }
   },
   "source": [
    "## Concetti di base di Python\n",
    "\n",
    "Tutto in Python è un oggetto con un'**identità** e un **tipo**!\n",
    "\n",
    "Puoi accedervi utilizzando le funzioni `id()` e `type()`.\n",
    "\n",
    "Python fornisce già tipi incorporati (None, int, str, ...) che storicamente non potevano essere estesi.\n",
    "\n",
    "**In Python 3, tutti i tipi sono anche classi**, i termini vengono usati in modo intercambiabile e puoi ereditare da tutto."
   ]
  },
  {
   "cell_type": "markdown",
   "id": "7b3a0260",
   "metadata": {
    "slideshow": {
     "slide_type": "subslide"
    }
   },
   "source": [
    "### Terminologia\n"
   ]
  },
  {
   "cell_type": "markdown",
   "id": "4c8ad373",
   "metadata": {},
   "source": [
    "Dichiarazioni di Classe"
   ]
  },
  {
   "cell_type": "code",
   "execution_count": 29,
   "id": "3c91eb52",
   "metadata": {},
   "outputs": [],
   "source": [
    "class MyClass:\n",
    "    pass"
   ]
  },
  {
   "cell_type": "markdown",
   "id": "7d756fc2",
   "metadata": {},
   "source": [
    "Creare un'istanza di una Classe"
   ]
  },
  {
   "cell_type": "code",
   "execution_count": 31,
   "id": "a9b96173",
   "metadata": {},
   "outputs": [
    {
     "name": "stdout",
     "output_type": "stream",
     "text": [
      "<class '__main__.MyClass'>\n"
     ]
    }
   ],
   "source": [
    "obj = MyClass()\n",
    "print(type(obj))"
   ]
  },
  {
   "cell_type": "markdown",
   "id": "098eaeb2",
   "metadata": {
    "slideshow": {
     "slide_type": "subslide"
    }
   },
   "source": [
    "Quali sono i built-in types?"
   ]
  },
  {
   "cell_type": "code",
   "execution_count": 32,
   "id": "5cc7dabf",
   "metadata": {
    "slideshow": {
     "slide_type": "-"
    }
   },
   "outputs": [
    {
     "name": "stdout",
     "output_type": "stream",
     "text": [
      "<class 'int'>\n"
     ]
    }
   ],
   "source": [
    "age = 50\n",
    "print(type(age))"
   ]
  },
  {
   "cell_type": "markdown",
   "id": "eeb82349",
   "metadata": {
    "slideshow": {
     "slide_type": "subslide"
    }
   },
   "source": [
    "Quindi una dichiarazione di intero restituisce effettivamente un'istanza della classe int."
   ]
  },
  {
   "cell_type": "code",
   "execution_count": 37,
   "id": "be689a01",
   "metadata": {
    "slideshow": {
     "slide_type": "-"
    }
   },
   "outputs": [],
   "source": [
    "age = int(50)"
   ]
  },
  {
   "cell_type": "markdown",
   "id": "e2121021",
   "metadata": {
    "slideshow": {
     "slide_type": "slide"
    }
   },
   "source": [
    "### Quanto e' profonda la tana del coniglio?"
   ]
  },
  {
   "cell_type": "markdown",
   "id": "1d84e259",
   "metadata": {},
   "source": [
    "La classe `int` ha una classe base?"
   ]
  },
  {
   "cell_type": "code",
   "execution_count": 34,
   "id": "85a2cbd9",
   "metadata": {},
   "outputs": [
    {
     "name": "stdout",
     "output_type": "stream",
     "text": [
      "(<class 'object'>,)\n"
     ]
    }
   ],
   "source": [
    "print(int.__bases__)"
   ]
  },
  {
   "cell_type": "markdown",
   "id": "a88f3789",
   "metadata": {
    "slideshow": {
     "slide_type": "subslide"
    }
   },
   "source": [
    "E `object` ha una base class?"
   ]
  },
  {
   "cell_type": "code",
   "execution_count": 35,
   "id": "29f06c3b",
   "metadata": {
    "slideshow": {
     "slide_type": "-"
    }
   },
   "outputs": [
    {
     "name": "stdout",
     "output_type": "stream",
     "text": [
      "()\n"
     ]
    }
   ],
   "source": [
    "print(object.__bases__)"
   ]
  },
  {
   "cell_type": "markdown",
   "id": "99642fc7",
   "metadata": {
    "slideshow": {
     "slide_type": "subslide"
    }
   },
   "source": [
    "La classe `object` e' la base di tutte le classi in Python3"
   ]
  },
  {
   "cell_type": "code",
   "execution_count": 8,
   "id": "1cf72199",
   "metadata": {
    "slideshow": {
     "slide_type": "-"
    }
   },
   "outputs": [],
   "source": [
    "class MyClass:\n",
    "    pass\n",
    "\n",
    "# is equivalent to\n",
    "\n",
    "class MyClass(object):\n",
    "    pass"
   ]
  },
  {
   "cell_type": "markdown",
   "id": "b460f87c",
   "metadata": {},
   "source": [
    "Tutto in Python e' un oggetto!"
   ]
  },
  {
   "cell_type": "markdown",
   "id": "4f01ccfa",
   "metadata": {
    "slideshow": {
     "slide_type": "subslide"
    }
   },
   "source": [
    "Se tutto è un oggetto, quale è il tipo di una dichiarazione di classe?"
   ]
  },
  {
   "cell_type": "code",
   "execution_count": 9,
   "id": "0ae267ba",
   "metadata": {
    "scrolled": true,
    "slideshow": {
     "slide_type": "-"
    }
   },
   "outputs": [
    {
     "name": "stdout",
     "output_type": "stream",
     "text": [
      "<class 'type'>\n",
      "<class 'type'>\n",
      "<class 'type'>\n"
     ]
    }
   ],
   "source": [
    "print(type(int))\n",
    "print(type(MyClass))\n",
    "print(type(object))"
   ]
  },
  {
   "cell_type": "markdown",
   "id": "e6e2c119",
   "metadata": {
    "slideshow": {
     "slide_type": "subslide"
    }
   },
   "source": [
    "Le dichiarazioni di classe sono istanze della classe `type`, che a sua volta è un'istanza di `type` e una sottoclasse della classe `object`."
   ]
  },
  {
   "cell_type": "code",
   "execution_count": 10,
   "id": "c4eedf3f",
   "metadata": {
    "slideshow": {
     "slide_type": "-"
    }
   },
   "outputs": [
    {
     "name": "stdout",
     "output_type": "stream",
     "text": [
      "<class 'type'>\n",
      "(<class 'object'>,)\n"
     ]
    }
   ],
   "source": [
    "print(type(type))\n",
    "print(type.__bases__)"
   ]
  },
  {
   "cell_type": "markdown",
   "id": "f46263a6",
   "metadata": {},
   "source": [
    "`type` è una cosiddetta **metaclass**, una classe le cui istanze sono classi."
   ]
  },
  {
   "cell_type": "markdown",
   "id": "52911804",
   "metadata": {
    "slideshow": {
     "slide_type": "subslide"
    }
   },
   "source": [
    "### Dichiarazione dinamica di classe\n",
    "\n",
    "invece di un solo argomento, `type` può essere chiamato con tre parametri:\n",
    "\n",
    "`type(nome_classe, superclassi, dizionario_attributi)`"
   ]
  },
  {
   "cell_type": "code",
   "execution_count": 11,
   "id": "c71cbb4b",
   "metadata": {
    "slideshow": {
     "slide_type": "-"
    }
   },
   "outputs": [
    {
     "name": "stdout",
     "output_type": "stream",
     "text": [
      "<class '__main__.MyClass'>\n"
     ]
    }
   ],
   "source": [
    "MyClass = type('MyClass', (), {})\n",
    "obj = MyClass()\n",
    "print(type(obj))"
   ]
  },
  {
   "cell_type": "markdown",
   "id": "dc6b25b7",
   "metadata": {
    "slideshow": {
     "slide_type": "slide"
    }
   },
   "source": [
    "## Torniamo a qualcosa di utile - come posso migliorare le mie classi\n",
    "\n",
    "- fondamentalmente le classi sono costruttori di oggetti\n",
    "- permettono di definire oggetti personalizzati, raggruppando dati e funzionalità\n",
    "- simili alle strutture/classi in c++ (la differenza è l'accesso pubblico/privato predefinito)\n",
    "- in python tutte le funzioni sono virtuali"
   ]
  },
  {
   "cell_type": "markdown",
   "id": "9ae88e21",
   "metadata": {
    "slideshow": {
     "slide_type": "subslide"
    }
   },
   "source": [
    "### Anatomia di una classe"
   ]
  },
  {
   "cell_type": "code",
   "execution_count": 23,
   "id": "c885cb8d",
   "metadata": {},
   "outputs": [
    {
     "name": "stdout",
     "output_type": "stream",
     "text": [
      "['Attenzione!']\n"
     ]
    }
   ],
   "source": [
    "class MyClass:\n",
    "    \"\"\"Un semplice esempio di classe\"\"\"\n",
    "    unmutable = 100 # class attribute shared by each instance\n",
    "    mutable = []    # be careful with mutable class attributes (avoid this!)\n",
    "   \n",
    "    def set_instance_attr(self, value): # instance method, despite the name not unique to each instance\n",
    "        \"\"\"Assign to an instance attribute\"\"\"\n",
    "        self.instance_attr = value # instance attribute unique to each instance\n",
    "\n",
    "# Create two instances of MyClass\n",
    "obj_1 = MyClass()\n",
    "obj_2 = MyClass()\n",
    "# This example shows what goes wrong with mutable class attributes\n",
    "obj_2.mutable.append('Attenzione!')\n",
    "print(obj_1.mutable)"
   ]
  },
  {
   "cell_type": "markdown",
   "id": "3f93a6e2",
   "metadata": {
    "slideshow": {
     "slide_type": "subslide"
    }
   },
   "source": [
    "### Attributi\n",
    "\n",
    "- tutti gli attributi/attributi di istanza di una classe/istanza sono memorizzati in un dizionario."
   ]
  },
  {
   "cell_type": "code",
   "execution_count": 24,
   "id": "f3edf9d5",
   "metadata": {
    "slideshow": {
     "slide_type": "-"
    }
   },
   "outputs": [
    {
     "name": "stdout",
     "output_type": "stream",
     "text": [
      "Class attributes: {'__module__': '__main__', '__doc__': 'Un semplice esempio di classe', 'unmutable': 100, 'mutable': ['Attenzione!'], 'set_instance_attr': <function MyClass.set_instance_attr at 0x7ff3879c79d0>, '__dict__': <attribute '__dict__' of 'MyClass' objects>, '__weakref__': <attribute '__weakref__' of 'MyClass' objects>}\n",
      "Instance attributes: {}\n"
     ]
    }
   ],
   "source": [
    "print('Class attributes:', MyClass.__dict__)\n",
    "print('Instance attributes:', obj_1.__dict__)"
   ]
  },
  {
   "cell_type": "markdown",
   "id": "721f147a",
   "metadata": {
    "slideshow": {
     "slide_type": "subslide"
    }
   },
   "source": [
    "- i dizionari occupano molta memoria rispetto alle liste\n",
    "- se non hai bisogno di aggiungere attributi alle tue istanze dinamicamente, puoi utilizzare `__slots__`\n",
    "- gli attributi `__slots__` hanno anche un accesso più veloce "
   ]
  },
  {
   "cell_type": "code",
   "execution_count": 27,
   "id": "61f3ce3d",
   "metadata": {},
   "outputs": [
    {
     "name": "stdout",
     "output_type": "stream",
     "text": [
      "Size of standard class: 48\n",
      "Size of class using slots: 40\n"
     ]
    },
    {
     "ename": "AttributeError",
     "evalue": "'MyClassWithSlots' object has no attribute 'new_attr'",
     "output_type": "error",
     "traceback": [
      "\u001b[0;31m---------------------------------------------------------------------------\u001b[0m",
      "\u001b[0;31mAttributeError\u001b[0m                            Traceback (most recent call last)",
      "\u001b[0;32m/var/folders/0f/8l4h59197p301ft6ppc9kkdr0000gr/T/ipykernel_6058/1813096990.py\u001b[0m in \u001b[0;36m<module>\u001b[0;34m\u001b[0m\n\u001b[1;32m     16\u001b[0m \u001b[0mprint\u001b[0m\u001b[0;34m(\u001b[0m\u001b[0;34m'Size of class using slots:'\u001b[0m\u001b[0;34m,\u001b[0m \u001b[0msys\u001b[0m\u001b[0;34m.\u001b[0m\u001b[0mgetsizeof\u001b[0m\u001b[0;34m(\u001b[0m\u001b[0mobj_slots\u001b[0m\u001b[0;34m)\u001b[0m\u001b[0;34m)\u001b[0m\u001b[0;34m\u001b[0m\u001b[0;34m\u001b[0m\u001b[0m\n\u001b[1;32m     17\u001b[0m \u001b[0;31m# However you loose the ability to assign instance attributes dynamically\u001b[0m\u001b[0;34m\u001b[0m\u001b[0;34m\u001b[0m\u001b[0m\n\u001b[0;32m---> 18\u001b[0;31m \u001b[0mobj_slots\u001b[0m\u001b[0;34m.\u001b[0m\u001b[0mnew_attr\u001b[0m \u001b[0;34m=\u001b[0m \u001b[0;36m42\u001b[0m\u001b[0;34m\u001b[0m\u001b[0;34m\u001b[0m\u001b[0m\n\u001b[0m",
      "\u001b[0;31mAttributeError\u001b[0m: 'MyClassWithSlots' object has no attribute 'new_attr'"
     ]
    }
   ],
   "source": [
    "import sys\n",
    "\n",
    "class MyClassWithSlots:\n",
    "    \"\"\"A simple example class using slots.\"\"\"\n",
    "    __slots__ = ['instance__attr']\n",
    "    unmutable = 100\n",
    "    mutable = []\n",
    "\n",
    "    def set_instance_attr(self, value):\n",
    "        \"\"\"Assign to an instance attribute\"\"\"\n",
    "        self.instance_attr = value\n",
    "\n",
    "# Compare the size of classes, the one using slots is smaller \n",
    "obj_slots = MyClassWithSlots()\n",
    "print('Size of standard class:', sys.getsizeof(obj_1))\n",
    "print('Size of class using slots:', sys.getsizeof(obj_slots))\n",
    "# However you loose the ability to assign instance attributes dynamically\n",
    "obj_slots.new_attr = 42"
   ]
  },
  {
   "cell_type": "markdown",
   "id": "a6682354",
   "metadata": {},
   "source": [
    "- puoi comunque permettere attributi di istanza dinamici aggiungendo `'__dict__'` a `__slots__`"
   ]
  },
  {
   "cell_type": "markdown",
   "id": "ef741bc5",
   "metadata": {
    "slideshow": {
     "slide_type": "subslide"
    }
   },
   "source": [
    "### Attributi privati e metodi\n",
    "\n",
    "- single underscore indica che gli attributi/metodi sono intesi come privati (except wildcard imports)\n",
    "- double underscore `__var` e' sostituito da `_classname__var` (name mangling)"
   ]
  },
  {
   "cell_type": "code",
   "execution_count": 28,
   "id": "53640583",
   "metadata": {},
   "outputs": [
    {
     "name": "stdout",
     "output_type": "stream",
     "text": [
      "You see my private attribute!\n",
      "You see my private method!\n"
     ]
    },
    {
     "ename": "AttributeError",
     "evalue": "'MyClass' object has no attribute '__private_attr'",
     "output_type": "error",
     "traceback": [
      "\u001b[0;31m---------------------------------------------------------------------------\u001b[0m",
      "\u001b[0;31mAttributeError\u001b[0m                            Traceback (most recent call last)",
      "\u001b[0;32m/var/folders/0f/8l4h59197p301ft6ppc9kkdr0000gr/T/ipykernel_6058/1541682918.py\u001b[0m in \u001b[0;36m<module>\u001b[0;34m\u001b[0m\n\u001b[1;32m     12\u001b[0m \u001b[0mobj\u001b[0m\u001b[0;34m.\u001b[0m\u001b[0m_MyClass__private_method\u001b[0m\u001b[0;34m(\u001b[0m\u001b[0;34m)\u001b[0m\u001b[0;34m\u001b[0m\u001b[0;34m\u001b[0m\u001b[0m\n\u001b[1;32m     13\u001b[0m \u001b[0;31m# However, accessing it directly will give an error\u001b[0m\u001b[0;34m\u001b[0m\u001b[0;34m\u001b[0m\u001b[0m\n\u001b[0;32m---> 14\u001b[0;31m \u001b[0mprint\u001b[0m\u001b[0;34m(\u001b[0m\u001b[0mobj\u001b[0m\u001b[0;34m.\u001b[0m\u001b[0m__private_attr\u001b[0m\u001b[0;34m)\u001b[0m\u001b[0;34m\u001b[0m\u001b[0;34m\u001b[0m\u001b[0m\n\u001b[0m",
      "\u001b[0;31mAttributeError\u001b[0m: 'MyClass' object has no attribute '__private_attr'"
     ]
    }
   ],
   "source": [
    "class MyClass:\n",
    "    \"\"\"An example class with private attributes and methods\"\"\"\n",
    "    __private_attr = 'You see my private attribute!'\n",
    "    \n",
    "    def __private_method(self):\n",
    "        \"\"\"A private method\"\"\"\n",
    "        print('You see my private method!')\n",
    "\n",
    "obj = MyClass()\n",
    "# You can still acces private attributes by using the mangled name\n",
    "print(obj._MyClass__private_attr)\n",
    "obj._MyClass__private_method()\n",
    "# However, accessing it directly will give an error\n",
    "print(obj.__private_attr)"
   ]
  },
  {
   "cell_type": "markdown",
   "id": "1fa176c7",
   "metadata": {
    "slideshow": {
     "slide_type": "slide"
    }
   },
   "source": [
    "## Alcuni metodi decoratori utili delle classi"
   ]
  },
  {
   "cell_type": "markdown",
   "id": "bef8b4e4",
   "metadata": {
    "slideshow": {
     "slide_type": "subslide"
    }
   },
   "source": [
    "### @property decorator - come convertire un metodo in un attributo"
   ]
  },
  {
   "cell_type": "markdown",
   "id": "2e5e3437",
   "metadata": {},
   "source": [
    "Modificare le variabili di istanza non cambia le altre variabili di istanza.\n",
    "\n",
    "\n"
   ]
  },
  {
   "cell_type": "code",
   "execution_count": 35,
   "id": "ae76213e",
   "metadata": {},
   "outputs": [
    {
     "name": "stdout",
     "output_type": "stream",
     "text": [
      "Alex Saro\n",
      "Alex Saro Alexandro\n"
     ]
    }
   ],
   "source": [
    "class Person:\n",
    "    \n",
    "    def __init__(self, firstname, lastname):\n",
    "        self.first = firstname\n",
    "        self.last = lastname\n",
    "        self.fullname = self.first + ' '+ self.last\n",
    "    \n",
    "person = Person('Alex', 'Saro')\n",
    "print(person.fullname)\n",
    "person.first = 'Alexandro'\n",
    "print(person.fullname, person.first)\n"
   ]
  },
  {
   "cell_type": "markdown",
   "id": "3a114dff",
   "metadata": {
    "slideshow": {
     "slide_type": "subslide"
    }
   },
   "source": [
    "Il decoratore @property permette di continuare ad utilizzare i metodi come attributi per non interrompere il codice esistente.\n",
    "\n",
    "\n",
    "\n",
    "\n"
   ]
  },
  {
   "cell_type": "code",
   "execution_count": 37,
   "id": "55c861b0",
   "metadata": {
    "scrolled": true,
    "slideshow": {
     "slide_type": "-"
    }
   },
   "outputs": [
    {
     "name": "stdout",
     "output_type": "stream",
     "text": [
      "Alex Saro\n",
      "Alexandro Saro\n"
     ]
    }
   ],
   "source": [
    "class Person:\n",
    "\n",
    "    def __init__(self, firstname, lastname):\n",
    "        self.first = firstname\n",
    "        self.last = lastname\n",
    "    \n",
    "    @property\n",
    "    def fullname(self):\n",
    "        return self.first + ' '+ self.last\n",
    "\n",
    "person = Person('Alex', 'Saro')\n",
    "print(person.fullname)\n",
    "person.first = 'Alexandro'\n",
    "print(person.fullname)"
   ]
  },
  {
   "cell_type": "markdown",
   "id": "b220c748",
   "metadata": {
    "slideshow": {
     "slide_type": "subslide"
    }
   },
   "source": [
    "inoltre, permette l'impostazione personalizzata e l'eliminazione degli attributi."
   ]
  },
  {
   "cell_type": "code",
   "execution_count": 40,
   "id": "41b44d14",
   "metadata": {
    "slideshow": {
     "slide_type": "-"
    }
   },
   "outputs": [],
   "source": [
    "class Person:\n",
    "\n",
    "    def __init__(self, firstname, lastname):\n",
    "        self.first = firstname\n",
    "        self.last = lastname\n",
    "\n",
    "    @property\n",
    "    def fullname(self):\n",
    "        return self.first + ' ' + self.last\n",
    "     \n",
    "    @fullname.setter\n",
    "    def fullname(self, name):\n",
    "        firstname, lastname = name.split()\n",
    "        self.first = firstname\n",
    "        self.last = lastname\n",
    "        \n",
    "    @fullname.deleter\n",
    "    def fullname(self):\n",
    "        self.first = 'None'\n",
    "        self.last = 'None'  "
   ]
  },
  {
   "cell_type": "code",
   "execution_count": 41,
   "id": "1c5a2304",
   "metadata": {
    "slideshow": {
     "slide_type": "subslide"
    }
   },
   "outputs": [
    {
     "name": "stdout",
     "output_type": "stream",
     "text": [
      "Alex Saro\n",
      "Matteo Costanzi\n",
      "Matteo\n",
      "Costanzi\n",
      "None None\n"
     ]
    }
   ],
   "source": [
    "person = Person('Alex', 'Saro')\n",
    "print(person.fullname)\n",
    "# Set a new name\n",
    "person.fullname = 'Matteo Costanzi'\n",
    "# Other attributes get automatically adjusted\n",
    "print(person.fullname)\n",
    "print(person.first)\n",
    "print(person.last)\n",
    "# Delete name\n",
    "del person.fullname\n",
    "print(person.fullname)"
   ]
  },
  {
   "cell_type": "markdown",
   "id": "98cf1dfe",
   "metadata": {
    "slideshow": {
     "slide_type": "subslide"
    }
   },
   "source": [
    "usa le proprietà per un'incapsulazione completa dove puoi definire regole su come gli attributi privati possono essere ottenuti e impostati."
   ]
  },
  {
   "cell_type": "code",
   "execution_count": 44,
   "id": "69bdb38e",
   "metadata": {},
   "outputs": [
    {
     "name": "stdout",
     "output_type": "stream",
     "text": [
      "Alex Saro\n",
      "None\n"
     ]
    }
   ],
   "source": [
    "class Encapsulated:\n",
    "    \n",
    "    def __init__(self, name):\n",
    "        self.private_attr = name # This assignment calls the setter method\n",
    "        \n",
    "    @property\n",
    "    def private_attr(self):\n",
    "        return self.__private_attr\n",
    "    \n",
    "    @private_attr.setter\n",
    "    def private_attr(self, name):\n",
    "        if len(name) > 0 and len(name) < 10:\n",
    "            self.__private_attr = name\n",
    "        else:\n",
    "            self.__private_attr = None\n",
    "        \n",
    "obj = Encapsulated('Alex Saro')\n",
    "# The name is too long\n",
    "print(obj.private_attr)\n",
    "obj = Encapsulated('Alexandro Saro')\n",
    "# The name is too long\n",
    "print(obj.private_attr)"
   ]
  },
  {
   "cell_type": "markdown",
   "id": "1226c42d",
   "metadata": {
    "slideshow": {
     "slide_type": "subslide"
    }
   },
   "source": [
    "### Decoratore @staticmethod - come chiamare metodi senza istanziare\n",
    "\n",
    "- i metodi di istanza possono essere chiamati solo da istanze della classe\n",
    "- il decoratore @staticmethod lo converte in un metodo statico\n",
    "- i metodi statici possono anche essere chiamati senza prima istanziare la classe\n",
    "- i metodi statici non conoscono altri attributi\n",
    "- si potrebbe usare una funzione normale, tuttavia in questo modo è logicamente contenuta nella classe per leggibilità."
   ]
  },
  {
   "cell_type": "code",
   "execution_count": 46,
   "id": "d99ef331",
   "metadata": {},
   "outputs": [
    {
     "name": "stdout",
     "output_type": "stream",
     "text": [
      "42\n",
      "101\n"
     ]
    }
   ],
   "source": [
    "class MyClass:\n",
    "  \n",
    "       @staticmethod\n",
    "       def find_max(number):\n",
    "           return max(number, 42)\n",
    "\n",
    "# You can use the find_max method using the class directly\n",
    "print(MyClass.find_max(40))\n",
    "# or using an instance\n",
    "obj = MyClass()\n",
    "print(obj.find_max(101))"
   ]
  },
  {
   "cell_type": "markdown",
   "id": "81872e5e",
   "metadata": {
    "slideshow": {
     "slide_type": "subslide"
    }
   },
   "source": [
    "### Decoratore @classmethod - un metodo statico che conosce la sua classe\n",
    "\n",
    "- Il decoratore @classmethod converte un metodo di istanza in un metodo di classe\n",
    "- simile ai metodi statici, possono essere chiamati senza prima istanziare la classe\n",
    "- prende la classe come parametro: `cls`\n",
    "- i metodi di classe conoscono gli altri attributi\n",
    "- i metodi di classe permettono costruttori predefiniti (funzioni di fabbrica)"
   ]
  },
  {
   "cell_type": "code",
   "execution_count": 48,
   "id": "682292ec",
   "metadata": {},
   "outputs": [
    {
     "name": "stdout",
     "output_type": "stream",
     "text": [
      "42\n",
      "101\n"
     ]
    }
   ],
   "source": [
    "class MyClass:\n",
    "    other_number = 42\n",
    "           \n",
    "    @classmethod\n",
    "    def find_max(cls, number):\n",
    "        return max(number, cls.other_number)\n",
    "    \n",
    "print(MyClass.find_max(40))\n",
    "obj = MyClass()\n",
    "print(obj.find_max(101)) # This would also work with normal instance method"
   ]
  },
  {
   "cell_type": "code",
   "execution_count": 53,
   "id": "2664fa64",
   "metadata": {
    "slideshow": {
     "slide_type": "subslide"
    }
   },
   "outputs": [
    {
     "name": "stdout",
     "output_type": "stream",
     "text": [
      "Pizza(['mozzarella', 'pomodoro'])\n"
     ]
    },
    {
     "data": {
      "text/plain": [
       "Pizza(['mozzarella', 'pomodoro', 'prosciutto'])"
      ]
     },
     "execution_count": 53,
     "metadata": {},
     "output_type": "execute_result"
    }
   ],
   "source": [
    "class Pizza:\n",
    "    \"\"\"This class shows the concept of factory functions\"\"\"\n",
    "    \n",
    "    def __init__(self, ingredients):\n",
    "        self.ingredients = ingredients\n",
    "\n",
    "    def __repr__(self):\n",
    "        return f'Pizza({self.ingredients})'\n",
    "\n",
    "    @classmethod\n",
    "    def margherita(cls):\n",
    "        return cls(['mozzarella', 'pomodoro'])\n",
    "\n",
    "    @classmethod\n",
    "    def prosciutto(cls):\n",
    "        return cls(['mozzarella', 'pomodoro', 'prosciutto'])\n",
    "\n",
    "print(Pizza.margherita()\n",
    "Pizza.prosciutto()"
   ]
  },
  {
   "cell_type": "markdown",
   "id": "2859b668",
   "metadata": {
    "slideshow": {
     "slide_type": "slide"
    }
   },
   "source": [
    "## Metodi speciali - aggiungere funzionalità alle classi"
   ]
  },
  {
   "cell_type": "markdown",
   "id": "8c0c4e24",
   "metadata": {
    "slideshow": {
     "slide_type": "subslide"
    }
   },
   "source": [
    "### Esempio: Cosa succede quando creiamo un'istanza?\n",
    "\n",
    "\n",
    "\n"
   ]
  },
  {
   "cell_type": "code",
   "execution_count": 56,
   "id": "a1daa42c",
   "metadata": {},
   "outputs": [],
   "source": [
    "obj = MyClass()"
   ]
  },
  {
   "cell_type": "markdown",
   "id": "8e419377",
   "metadata": {},
   "source": [
    "- il metodo `__call__` della classe genitore viene chiamato, in questo caso il metodo `type_call` della metaclass `type`\n",
    "- questo a sua volta invoca i metodi `__new__` e `__init__` della classe stessa\n",
    "- tutti questi tipi di metodi sono chiamati metodi **speciali**, **magici** o **dunder** e sono il modo di Python di sovraccaricare gli operatori."
   ]
  },
  {
   "cell_type": "markdown",
   "id": "fe7e0378",
   "metadata": {
    "slideshow": {
     "slide_type": "subslide"
    }
   },
   "source": [
    "### `__new__` - modifica come vengono create le istanze della classe\n",
    "\n",
    "- chiamato automaticamente quando una classe viene istanziata\n",
    "- crea effettivamente l'oggetto\n",
    "- utilizzato per personalizzare come vengono create le nuove istanze di classe\n",
    "- è qui che gli oggetti immutabili vengono inizializzati poiché qualsiasi attributo impostato in `__init__` può essere modificato.\n"
   ]
  },
  {
   "cell_type": "code",
   "execution_count": 57,
   "id": "cba8f3a1",
   "metadata": {},
   "outputs": [
    {
     "name": "stdout",
     "output_type": "stream",
     "text": [
      "<__main__.Singleton object at 0x7ff38995ae50>\n",
      "An instance already exists!\n",
      "None\n"
     ]
    }
   ],
   "source": [
    "class Singleton:\n",
    "    \"\"\"This is an example of how to implement a singleton\"\"\"\n",
    "    __instance = None\n",
    "    \n",
    "    def __new__(cls): # As in the case with self, cls is a naming convention\n",
    "        if not cls.__instance:\n",
    "            cls.__instance = object.__new__(cls)\n",
    "            return cls.__instance\n",
    "        else:\n",
    "            print('An instance already exists!')\n",
    "        \n",
    "single_one = Singleton()\n",
    "print(single_one)\n",
    "single_two = Singleton()\n",
    "print(single_two)"
   ]
  },
  {
   "cell_type": "markdown",
   "id": "aee45565",
   "metadata": {
    "slideshow": {
     "slide_type": "subslide"
    }
   },
   "source": [
    "### `__init__` - il costruttore/inizializzatore\n",
    "\n",
    "- chiamato automaticamente quando una classe viene istanziata\n",
    "- utilizzato per inizializzare gli attributi.\n"
   ]
  },
  {
   "cell_type": "markdown",
   "id": "1506a257",
   "metadata": {
    "slideshow": {
     "slide_type": "subslide"
    }
   },
   "source": [
    "### `__repr__` - la rappresentazione formale\n",
    "\n",
    "- chiamato da repr()\n",
    "- dovrebbe poter agire come argomento per eval() e restituire lo stesso oggetto\n",
    "- dovrebbe sempre essere implementato."
   ]
  },
  {
   "cell_type": "code",
   "execution_count": 66,
   "id": "e5cf6113",
   "metadata": {},
   "outputs": [
    {
     "name": "stdout",
     "output_type": "stream",
     "text": [
      "Person(\"Alex\",\"Saro\",43)\n"
     ]
    }
   ],
   "source": [
    "class Person:\n",
    "    \n",
    "    def __init__(self, firstname, lastname, age):\n",
    "        self.first = firstname\n",
    "        self.last = lastname\n",
    "        self.age = age\n",
    "    \n",
    "    def __repr__(self):\n",
    "        \"\"\"Is called by the repr() function\"\"\"\n",
    "        return (f'Person(\"{self.first}\",\"{self.last}\",{self.age})')\n",
    "\n",
    "person = Person('Alex', 'Saro', 43)\n",
    "# This should return itself\n",
    "print(eval(repr(person)))"
   ]
  },
  {
   "cell_type": "markdown",
   "id": "ebaf4cd1",
   "metadata": {
    "slideshow": {
     "slide_type": "subslide"
    }
   },
   "source": [
    "### `__str__` - la rappresentazione come stringa\n",
    "\n",
    "- chiamato da str() e dall'istruzione print\n",
    "- è la rappresentazione leggibile umana\n",
    "- se non implementato, str() restituisce il risultato del metodo `__repr__`\n",
    "- quest'ultimo avviene sempre anche per gli oggetti nei contenitori."
   ]
  },
  {
   "cell_type": "code",
   "execution_count": 67,
   "id": "41bc5e28",
   "metadata": {},
   "outputs": [
    {
     "name": "stdout",
     "output_type": "stream",
     "text": [
      "Alex Saro, 43\n"
     ]
    }
   ],
   "source": [
    "class Person:\n",
    "    \n",
    "    def __init__(self, firstname, lastname, age):\n",
    "        self.first = firstname\n",
    "        self.last = lastname\n",
    "        self.age = age\n",
    "    \n",
    "    def __repr__(self):\n",
    "        return f'Person(\"{self.first}\",\"{self.last}\",{self.age})'\n",
    "\n",
    "    def __str__(self):\n",
    "        \"\"\"Is called by the str() and print() function\"\"\"\n",
    "        return f'{self.first} {self.last}, {self.age}'\n",
    "    \n",
    "person = Person('Alex', 'Saro', 43)\n",
    "# Print a nice human readable version\n",
    "print(person)"
   ]
  },
  {
   "cell_type": "markdown",
   "id": "366aff6f",
   "metadata": {
    "slideshow": {
     "slide_type": "subslide"
    }
   },
   "source": [
    "### `__del__` - il distruttore/finalizzatore\n",
    "\n",
    "- chiamato quando il garbage collector sta eliminando oggetti senza riferimenti."
   ]
  },
  {
   "cell_type": "code",
   "execution_count": 87,
   "id": "b12a66fd",
   "metadata": {
    "slideshow": {
     "slide_type": "-"
    }
   },
   "outputs": [
    {
     "name": "stdout",
     "output_type": "stream",
     "text": [
      "I exist! I exist!\n",
      "I exist!\n",
      "MyClass class destroyed!\n"
     ]
    }
   ],
   "source": [
    "class MyClass:\n",
    "    \n",
    "    def __del__(self):\n",
    "        \"\"\"Is called when the garbage collector frees up the memory\"\"\"\n",
    "        print(f'{self.__class__.__name__} class destroyed!')\n",
    "        \n",
    "    def __str__(self):\n",
    "        return \"I exist!\"\n",
    "        \n",
    "obj = MyClass()\n",
    "reference = obj\n",
    "print(obj, reference)\n",
    "del obj\n",
    "print(reference)\n",
    "del reference"
   ]
  },
  {
   "cell_type": "code",
   "execution_count": 88,
   "id": "3abee474",
   "metadata": {},
   "outputs": [
    {
     "name": "stdout",
     "output_type": "stream",
     "text": [
      "Entering with statement!\n",
      "Executing code!\n",
      "This is always garanteed to be called!\n"
     ]
    }
   ],
   "source": [
    "class MyClass:\n",
    "\n",
    "    def __enter__(self):\n",
    "        \"\"\"Gets called when with statement is entered\"\"\"\n",
    "        print('Entering with statement!')\n",
    "        \n",
    "    def __exit__(self, exc_type, exc_value, traceback):\n",
    "        \"\"\"Gets called when with statement is left\"\"\"\n",
    "        print('This is always garanteed to be called!')\n",
    "\n",
    "with MyClass() as example:\n",
    "    print('Executing code!')"
   ]
  },
  {
   "cell_type": "markdown",
   "id": "86c36290",
   "metadata": {
    "slideshow": {
     "slide_type": "subslide"
    }
   },
   "source": [
    "### `__getitem__`, `__setitem__`, `__len__` - making your class a container"
   ]
  },
  {
   "cell_type": "code",
   "execution_count": 93,
   "id": "bb6ab970",
   "metadata": {},
   "outputs": [
    {
     "name": "stdout",
     "output_type": "stream",
     "text": [
      "First entry: First\n",
      "Length: 3\n",
      "Second entry: Second\n",
      "Second entry 2\n"
     ]
    }
   ],
   "source": [
    "class MyContainer:\n",
    "    \n",
    "    def __init__(self):\n",
    "        self.data = []\n",
    "        \n",
    "    def __len__(self):\n",
    "        return len(self.data)\n",
    "    \n",
    "    def append(self, item):\n",
    "        self.data.append(item)\n",
    "    \n",
    "    def __getitem__(self, sliced):\n",
    "        return self.data[sliced]\n",
    "    \n",
    "    def __setitem__(self, key, item):\n",
    "        self.data[key] = item\n",
    "        \n",
    "container = MyContainer()\n",
    "container.append(\"First\")\n",
    "container.append(\"Second\")\n",
    "container.append(\"Third\")\n",
    "print('First entry:', container[0])\n",
    "print('Length:', len(container))\n",
    "print(\"Second entry:\", container[1])\n",
    "container[1] = 2\n",
    "print('Second entry', container[1])"
   ]
  },
  {
   "cell_type": "code",
   "execution_count": 95,
   "id": "58598442",
   "metadata": {},
   "outputs": [
    {
     "name": "stdout",
     "output_type": "stream",
     "text": [
      "First entry: First\n",
      "Length: 3\n",
      "Second entry: Second\n",
      "Second entry 2\n"
     ]
    }
   ],
   "source": [
    "class MyContainer:\n",
    "    \n",
    "    def __init__(self):\n",
    "        self.data = []\n",
    "        \n",
    "    def __len__(self):\n",
    "        return len(self.data)\n",
    "    \n",
    "    def append(self, item):\n",
    "        self.data.append(item)\n",
    "    \n",
    "    def __getitem__(self, sliced):\n",
    "        return self.data[sliced]\n",
    "    \n",
    "    def __setitem__(self, key, item):\n",
    "        self.data[key] = item\n",
    "        \n",
    "container = MyContainer()\n",
    "container.append(\"First\")\n",
    "container.append(\"Second\")\n",
    "container.append(\"Third\")\n",
    "print('First entry:', container[0])\n",
    "print('Length:', len(container))\n",
    "print(\"Second entry:\", container[1])\n",
    "container[1] = 2\n",
    "print('Second entry', container[1])"
   ]
  },
  {
   "cell_type": "markdown",
   "id": "0d9134f4",
   "metadata": {
    "slideshow": {
     "slide_type": "subslide"
    }
   },
   "source": [
    "### `__eq__`, `__le__`, `__lt__`, `__ne__`, `__ge__`, `__gt__` - confronto tra due oggetti\n",
    "\n",
    "- metodi di \"confronto avanzato\"\n",
    "- `__eq__` di default confronta utilizzando `is`\n",
    "- è necessario implementare solo uno di ciascun tipo.\n"
   ]
  },
  {
   "cell_type": "code",
   "execution_count": 101,
   "id": "f1b72089",
   "metadata": {
    "scrolled": true
   },
   "outputs": [
    {
     "name": "stdout",
     "output_type": "stream",
     "text": [
      "True\n",
      "False\n",
      "True\n"
     ]
    }
   ],
   "source": [
    "class Person:\n",
    "    def __init__(self, firstname, lastname, age):\n",
    "        self.first = firstname\n",
    "        self.last = lastname\n",
    "        self.age = age\n",
    "    \n",
    "    def __eq__(self, other):\n",
    "        return self.age == other.age\n",
    "    \n",
    "    def __le__(self, other):\n",
    "        return self.age <= other.age\n",
    "\n",
    "    def __lt__(self, other):\n",
    "        return self.age < other.age\n",
    "    \n",
    "person1 = Person('Alex', 'Saro', 43)\n",
    "person2 = Person('Matteo', 'Costanzi', 37)\n",
    "print(person1 != person2)\n",
    "print(person1 <= person2)\n",
    "print(person1 > person2)"
   ]
  },
  {
   "cell_type": "markdown",
   "id": "6931c09c",
   "metadata": {
    "slideshow": {
     "slide_type": "subslide"
    }
   },
   "source": [
    "- utilizzando `total_ordering` devi implementare solo uno tra `__lt__`, `__le__`, `__gt__` o `__ge__`\n",
    "- se non implementi `__eq__`, gli oggetti verranno comunque confrontati solo utilizzando `is`."
   ]
  },
  {
   "cell_type": "code",
   "execution_count": 102,
   "id": "0b4cf1e8",
   "metadata": {},
   "outputs": [
    {
     "name": "stdout",
     "output_type": "stream",
     "text": [
      "True\n",
      "False\n",
      "False\n"
     ]
    }
   ],
   "source": [
    "from functools import total_ordering\n",
    "\n",
    "@total_ordering\n",
    "class Person:\n",
    "    def __init__(self, firstname, lastname, age):\n",
    "        self.first = firstname\n",
    "        self.last = lastname\n",
    "        self.age = age\n",
    "    \n",
    "    def __eq__(self, other):\n",
    "        return self.age == other.age\n",
    "    \n",
    "    def __lt__(self, other):\n",
    "        return self.age < other.age\n",
    "    \n",
    "    def __repr__(self):\n",
    "        return f'Person(\"{self.first}\",\"{self.last}\",{self.age})'\n",
    "    \n",
    "person1 = Person('Alex', 'Saro', 43)\n",
    "person2 = Person('Matteo', 'Costanzi', 37)\n",
    "print(person1 != person2)\n",
    "print(person1 <= person2)\n",
    "print(person1 < person2)"
   ]
  },
  {
   "cell_type": "markdown",
   "id": "2e3f0ab7",
   "metadata": {
    "slideshow": {
     "slide_type": "subslide"
    }
   },
   "source": [
    "### `__hash__` - rendere la tua classe \"hashable\" (in grado di essere hashata???)\n",
    "\n",
    "se `__eq__` non è definito:\n",
    "- ogni istanza separata avrà un hash diverso\n",
    "- solo un uso limitato come hash, poiché gli oggetti creati con gli stessi valori hanno hash diversi\n",
    "- non dovresti nemmeno definire un metodo `__hash__`\n",
    "\n",
    "se `__eq__` è definito ma non `__hash__`:\n",
    "- le istanze non potranno essere utilizzate come elementi in collezioni hashabili\n",
    "\n",
    "se una classe definisce oggetti mutabili, non dovrebbe implementare `__hash__`, **solo gli oggetti immutabili dovrebbero essere utilizzati come hash**."
   ]
  },
  {
   "cell_type": "code",
   "execution_count": 103,
   "id": "3fac1961",
   "metadata": {},
   "outputs": [
    {
     "ename": "TypeError",
     "evalue": "unhashable type: 'Person'",
     "output_type": "error",
     "traceback": [
      "\u001b[0;31m---------------------------------------------------------------------------\u001b[0m",
      "\u001b[0;31mTypeError\u001b[0m                                 Traceback (most recent call last)",
      "\u001b[0;32m/var/folders/0f/8l4h59197p301ft6ppc9kkdr0000gr/T/ipykernel_6058/2853853220.py\u001b[0m in \u001b[0;36m<module>\u001b[0;34m\u001b[0m\n\u001b[1;32m      1\u001b[0m \u001b[0;31m# Our previously defined persons cannot be used as keys in dictionaries\u001b[0m\u001b[0;34m\u001b[0m\u001b[0;34m\u001b[0m\u001b[0m\n\u001b[0;32m----> 2\u001b[0;31m \u001b[0mdic\u001b[0m \u001b[0;34m=\u001b[0m \u001b[0;34m{\u001b[0m\u001b[0mperson1\u001b[0m\u001b[0;34m:\u001b[0m \u001b[0;36m1\u001b[0m\u001b[0;34m,\u001b[0m \u001b[0mperson2\u001b[0m\u001b[0;34m:\u001b[0m \u001b[0;36m2\u001b[0m\u001b[0;34m}\u001b[0m\u001b[0;34m\u001b[0m\u001b[0;34m\u001b[0m\u001b[0m\n\u001b[0m",
      "\u001b[0;31mTypeError\u001b[0m: unhashable type: 'Person'"
     ]
    }
   ],
   "source": [
    "# Our previously defined persons cannot be used as keys in dictionaries\n",
    "dic = {person1: 1, person2: 2}"
   ]
  },
  {
   "cell_type": "code",
   "execution_count": 7,
   "id": "f89c65b1",
   "metadata": {
    "slideshow": {
     "slide_type": "subslide"
    }
   },
   "outputs": [
    {
     "name": "stdout",
     "output_type": "stream",
     "text": [
      "True\n",
      "dic[person2]: 1\n"
     ]
    },
    {
     "ename": "KeyError",
     "evalue": "Person(\"Alex\",\"Saro\",42)",
     "output_type": "error",
     "traceback": [
      "\u001b[0;31m---------------------------------------------------------------------------\u001b[0m",
      "\u001b[0;31mKeyError\u001b[0m                                  Traceback (most recent call last)",
      "\u001b[0;32m/var/folders/0f/8l4h59197p301ft6ppc9kkdr0000gr/T/ipykernel_6899/2852306445.py\u001b[0m in \u001b[0;36m<module>\u001b[0;34m\u001b[0m\n\u001b[1;32m     23\u001b[0m \u001b[0;31m# We change person1 and both person1 and person2 will give a key error\u001b[0m\u001b[0;34m\u001b[0m\u001b[0;34m\u001b[0m\u001b[0m\n\u001b[1;32m     24\u001b[0m \u001b[0mperson1\u001b[0m\u001b[0;34m.\u001b[0m\u001b[0mage\u001b[0m \u001b[0;34m=\u001b[0m \u001b[0;36m42\u001b[0m\u001b[0;34m\u001b[0m\u001b[0;34m\u001b[0m\u001b[0m\n\u001b[0;32m---> 25\u001b[0;31m \u001b[0mprint\u001b[0m\u001b[0;34m(\u001b[0m\u001b[0mdic\u001b[0m\u001b[0;34m[\u001b[0m\u001b[0mperson1\u001b[0m\u001b[0;34m]\u001b[0m\u001b[0;34m)\u001b[0m\u001b[0;34m\u001b[0m\u001b[0;34m\u001b[0m\u001b[0m\n\u001b[0m",
      "\u001b[0;31mKeyError\u001b[0m: Person(\"Alex\",\"Saro\",42)"
     ]
    }
   ],
   "source": [
    "class Person:\n",
    "    def __init__(self, firstname, lastname, age):\n",
    "        self.first = firstname\n",
    "        self.last = lastname\n",
    "        self.age = age\n",
    "    \n",
    "    def __eq__(self, other):\n",
    "        return self.age == other.age\n",
    "    \n",
    "    def __repr__(self):\n",
    "        return f'Person(\"{self.first}\",\"{self.last}\",{self.age})'\n",
    "\n",
    "    def __hash__(self):\n",
    "        \"\"\"The objects of the class are mutable!\"\"\"\n",
    "        return hash(tuple([self.first, self.last, self.age]))\n",
    "    \n",
    "person1 = Person('Alex', 'Saro', 43)\n",
    "person2 = Person('Alex', 'Saro', 43)\n",
    "print(hash(person1) == hash(person2))\n",
    "dic = {person1: 1}\n",
    "# Everything seems to work, person2 is an accepted key \n",
    "print('dic[person2]:', dic[person2])\n",
    "# We change person1 and both person1 and person2 will give a key error\n",
    "person1.age = 42\n",
    "print(dic[person1])\n"
   ]
  },
  {
   "cell_type": "markdown",
   "id": "63683278",
   "metadata": {
    "slideshow": {
     "slide_type": "subslide"
    }
   },
   "source": [
    "- quando abbiamo modificato person1, abbiamo anche modificato la chiave del dizionario\n",
    "- l'hash non si riferirà più al bucket corretto nel dizionario per quella chiave\n",
    "- l'unico modo per utilizzare una classe mutabile è quando l'hash si basa sull'identità e non sul valore."
   ]
  },
  {
   "cell_type": "markdown",
   "id": "356d40e4",
   "metadata": {
    "slideshow": {
     "slide_type": "slide"
    }
   },
   "source": [
    "## Dataclass\n",
    "\n",
    "- il decoratore `@dataclass` converte una classe in una dataclass\n",
    "- aggiunge automaticamente `__init__`, `__repr__` e `__eq__`\n",
    "- funziona ancora come una classe regolare."
   ]
  },
  {
   "cell_type": "code",
   "execution_count": 9,
   "id": "7ecd3bce",
   "metadata": {},
   "outputs": [],
   "source": [
    "class Person:\n",
    "\n",
    "    def __init__(self, firstname: str='unknown', lastname: str='unknown', age: int=-1): # These are variabel annotations or type hints\n",
    "        self.first = firstname\n",
    "        self.last = lastname\n",
    "        self.age = age\n",
    "        \n",
    "    def __repr__(self):\n",
    "        return f'Person(first={self.first}, last={self.last}, age={self.age})'\n",
    "    \n",
    "    def __eq__(self, other):\n",
    "        return (self.first, self.last, self.age) == (other.first, other.last, other.age)"
   ]
  },
  {
   "cell_type": "code",
   "execution_count": 12,
   "id": "059ac613",
   "metadata": {
    "scrolled": true,
    "slideshow": {
     "slide_type": "subslide"
    }
   },
   "outputs": [
    {
     "name": "stdout",
     "output_type": "stream",
     "text": [
      "DataClassPerson(first='Alex', last='Saro', age=43)\n"
     ]
    },
    {
     "data": {
      "text/plain": [
       "True"
      ]
     },
     "execution_count": 12,
     "metadata": {},
     "output_type": "execute_result"
    }
   ],
   "source": [
    "from dataclasses import dataclass\n",
    "\n",
    "@dataclass\n",
    "class DataClassPerson:\n",
    "    first: str = 'unknown'\n",
    "    last: str = 'unknown'\n",
    "    age: int = -1\n",
    "\n",
    "person1 = DataClassPerson('Alex', 'Saro', 43)\n",
    "person2 = DataClassPerson('Alex', 'Saro', 43)\n",
    "print(person1)\n",
    "person1 == person2"
   ]
  },
  {
   "cell_type": "markdown",
   "id": "0dc05c2e",
   "metadata": {
    "slideshow": {
     "slide_type": "-"
    }
   },
   "source": [
    "I suggerimenti di type sono obbligatori per le dataclasses, `any` e' anche un opzione."
   ]
  },
  {
   "cell_type": "markdown",
   "id": "ff92eba6",
   "metadata": {
    "slideshow": {
     "slide_type": "subslide"
    }
   },
   "source": [
    "- le righe sotto la dichiarazione della classe definiscono oggetti di campo, che sono speciali per le dataclass e funzionano come attributi regolari\n",
    "- i tipi mutabili non sono ammessi, tranne quelli creati dall'opzione `default_factory`."
   ]
  },
  {
   "cell_type": "code",
   "execution_count": 16,
   "id": "18efd9ae",
   "metadata": {},
   "outputs": [
    {
     "name": "stdout",
     "output_type": "stream",
     "text": [
      "[0, 1, 2]\n"
     ]
    }
   ],
   "source": [
    "from dataclasses import dataclass, field\n",
    "\n",
    "def return_list() -> list:\n",
    "    return [0, 1, 2]\n",
    "\n",
    "@dataclass\n",
    "class DataClassMutable:\n",
    "    mutable: list = field(default_factory=return_list)\n",
    "        \n",
    "obj = DataClassMutable()\n",
    "print(obj.mutable)"
   ]
  },
  {
   "cell_type": "markdown",
   "id": "69bdb0ac",
   "metadata": {
    "slideshow": {
     "slide_type": "subslide"
    }
   },
   "source": [
    "I campi hanno le seguenti opzioni:\n",
    "\n",
    "- **default**: valore predefinito del campo\n",
    "- **default_factory**: funzione che restituisce il valore iniziale del campo\n",
    "- **init**: utilizza il campo nel metodo `__init__`, il valore predefinito è True\n",
    "- **repr**: utilizza il campo nella rappresentazione (`repr`) dell'oggetto, il valore predefinito è True\n",
    "- **compare**: include il campo nei confronti, il valore predefinito è True\n",
    "- **hash**: include il campo nel calcolo dell'hash, il valore predefinito è utilizzare lo stesso dell'opzione `compare`\n",
    "- **metadata**: una mappatura con informazioni sul campo.\n"
   ]
  },
  {
   "cell_type": "code",
   "execution_count": 19,
   "id": "42a56d72",
   "metadata": {
    "slideshow": {
     "slide_type": "subslide"
    }
   },
   "outputs": [
    {
     "data": {
      "text/plain": [
       "(Field(name='first',type=<class 'str'>,default='unknown',default_factory=<dataclasses._MISSING_TYPE object at 0x7ff564943be0>,init=True,repr=True,hash=None,compare=True,metadata=mappingproxy({}),_field_type=_FIELD),\n",
       " Field(name='last',type=<class 'str'>,default='unknown',default_factory=<dataclasses._MISSING_TYPE object at 0x7ff564943be0>,init=True,repr=True,hash=None,compare=True,metadata=mappingproxy({}),_field_type=_FIELD),\n",
       " Field(name='age',type=<class 'int'>,default=-1,default_factory=<dataclasses._MISSING_TYPE object at 0x7ff564943be0>,init=True,repr=True,hash=None,compare=True,metadata=mappingproxy({'unit': 'years'}),_field_type=_FIELD))"
      ]
     },
     "execution_count": 19,
     "metadata": {},
     "output_type": "execute_result"
    }
   ],
   "source": [
    "from dataclasses import dataclass, field, fields\n",
    "\n",
    "@dataclass\n",
    "class DataClassPerson:\n",
    "    first: str = 'unknown'\n",
    "    last: str = 'unknown'\n",
    "    age: int = field(default=-1, metadata={'unit': 'years'})\n",
    "        \n",
    "fields(DataClassPerson)"
   ]
  },
  {
   "cell_type": "markdown",
   "id": "3db70e8e",
   "metadata": {
    "slideshow": {
     "slide_type": "subslide"
    }
   },
   "source": [
    "Il decoratore `@dataclass` può anche essere chiamato con i seguenti parametri:\n",
    "\n",
    "- **init**: aggiunge il metodo `__init__`, il valore predefinito è True\n",
    "- **repr**: aggiunge il metodo `__repr__`, il valore predefinito è True\n",
    "- **eq**: aggiunge il metodo `__eq__`, il valore predefinito è True\n",
    "- **order**: aggiunge i metodi di ordinamento, il valore predefinito è False\n",
    "- **unsafe_hash**: forza l'aggiunta di un metodo `__hash__`, il valore predefinito è False\n",
    "- **frozen**: se True, l'assegnazione ai campi (**e solo ai campi**) solleva un'eccezione, il valore predefinito è False."
   ]
  },
  {
   "cell_type": "markdown",
   "id": "8be8b5d9",
   "metadata": {
    "slideshow": {
     "slide_type": "subslide"
    }
   },
   "source": [
    "`order=True` confronta gli oggetti come se fossero tuple."
   ]
  },
  {
   "cell_type": "code",
   "execution_count": 23,
   "id": "ff12e9d4",
   "metadata": {
    "slideshow": {
     "slide_type": "-"
    }
   },
   "outputs": [
    {
     "data": {
      "text/plain": [
       "False"
      ]
     },
     "execution_count": 23,
     "metadata": {},
     "output_type": "execute_result"
    }
   ],
   "source": [
    "from dataclasses import dataclass\n",
    "\n",
    "@dataclass(order=True)\n",
    "class DataClassPerson:\n",
    "    first: str = 'unknown'\n",
    "    last: str = 'unknown'\n",
    "    age: int = -1\n",
    "                                   \n",
    "person1 = DataClassPerson('Alex', 'Saro', 43)\n",
    "person2 = DataClassPerson('Matteo', 'Costanzi', 37)\n",
    "person1 > person2"
   ]
  },
  {
   "cell_type": "markdown",
   "id": "f270124d",
   "metadata": {
    "slideshow": {
     "slide_type": "subslide"
    }
   },
   "source": [
    "devi impostare un indice di ordinamento per ottenere un ordinamento personalizzato."
   ]
  },
  {
   "cell_type": "code",
   "execution_count": 25,
   "id": "53e853c2",
   "metadata": {
    "slideshow": {
     "slide_type": "-"
    }
   },
   "outputs": [
    {
     "data": {
      "text/plain": [
       "True"
      ]
     },
     "execution_count": 25,
     "metadata": {},
     "output_type": "execute_result"
    }
   ],
   "source": [
    "from dataclasses import dataclass, field\n",
    "\n",
    "@dataclass(order=True)\n",
    "class DataClassPerson:\n",
    "    sort_index: int = field(init=False, repr=False)\n",
    "    first: str = 'unknown'\n",
    "    last: str = 'unknown'\n",
    "    age: int = -1\n",
    "\n",
    "    def __post_init__(self): # This is a special method of dataclasses, called by __init__\n",
    "        self.sort_index = self.age\n",
    "\n",
    "person1 = DataClassPerson('Alex', 'Saro', 43)\n",
    "person2 = DataClassPerson('Matteo', 'Costanzi', 37)\n",
    "\n",
    "person1 > person2"
   ]
  },
  {
   "cell_type": "markdown",
   "id": "026c5767",
   "metadata": {
    "slideshow": {
     "slide_type": "subslide"
    }
   },
   "source": [
    "`frozen=True` protegge gli attributi dalle modifiche."
   ]
  },
  {
   "cell_type": "code",
   "execution_count": 26,
   "id": "0b982e13",
   "metadata": {},
   "outputs": [
    {
     "ename": "FrozenInstanceError",
     "evalue": "cannot assign to field 'first'",
     "output_type": "error",
     "traceback": [
      "\u001b[0;31m---------------------------------------------------------------------------\u001b[0m",
      "\u001b[0;31mFrozenInstanceError\u001b[0m                       Traceback (most recent call last)",
      "\u001b[0;32m/var/folders/0f/8l4h59197p301ft6ppc9kkdr0000gr/T/ipykernel_6899/3508077095.py\u001b[0m in \u001b[0;36m<module>\u001b[0;34m\u001b[0m\n\u001b[1;32m      6\u001b[0m \u001b[0;34m\u001b[0m\u001b[0m\n\u001b[1;32m      7\u001b[0m \u001b[0mperson1\u001b[0m \u001b[0;34m=\u001b[0m \u001b[0mDataClassPerson\u001b[0m\u001b[0;34m(\u001b[0m\u001b[0;34m'Alex'\u001b[0m\u001b[0;34m,\u001b[0m \u001b[0;34m'Saro'\u001b[0m\u001b[0;34m,\u001b[0m \u001b[0;36m43\u001b[0m\u001b[0;34m)\u001b[0m\u001b[0;34m\u001b[0m\u001b[0;34m\u001b[0m\u001b[0m\n\u001b[0;32m----> 8\u001b[0;31m \u001b[0mperson1\u001b[0m\u001b[0;34m.\u001b[0m\u001b[0mfirst\u001b[0m \u001b[0;34m=\u001b[0m \u001b[0;34m'Alexandro'\u001b[0m\u001b[0;34m\u001b[0m\u001b[0;34m\u001b[0m\u001b[0m\n\u001b[0m",
      "\u001b[0;32m<string>\u001b[0m in \u001b[0;36m__setattr__\u001b[0;34m(self, name, value)\u001b[0m\n",
      "\u001b[0;31mFrozenInstanceError\u001b[0m: cannot assign to field 'first'"
     ]
    }
   ],
   "source": [
    "@dataclass(frozen=True)\n",
    "class DataClassPerson:\n",
    "    first: str = 'unknown'\n",
    "    last: str = 'unknown'\n",
    "    age: int = -1\n",
    "           \n",
    "person1 = DataClassPerson('Alex', 'Saro', 43)\n",
    "person1.first = 'Alexandro'"
   ]
  },
  {
   "cell_type": "markdown",
   "id": "12760221",
   "metadata": {
    "slideshow": {
     "slide_type": "subslide"
    }
   },
   "source": [
    "tuttavia, gli oggetti mutabili possono ancora essere modificati."
   ]
  },
  {
   "cell_type": "code",
   "execution_count": 27,
   "id": "0c9c1f65",
   "metadata": {},
   "outputs": [
    {
     "name": "stdout",
     "output_type": "stream",
     "text": [
      "[42, 1, 2]\n"
     ]
    }
   ],
   "source": [
    "def return_list():\n",
    "    return [0, 1, 2]\n",
    "\n",
    "@dataclass(frozen=True)\n",
    "class DataClassPerson:\n",
    "    first: str = 'unknown'\n",
    "    last: str = 'unknown'\n",
    "    age: int = -1\n",
    "    mutable: list = field(default_factory=return_list)\n",
    "        \n",
    "person1 = DataClassPerson('Alex', 'Saro', 43)\n",
    "person1.mutable[0] = 42\n",
    "print(person1.mutable)"
   ]
  },
  {
   "cell_type": "markdown",
   "id": "ea7f2ca7",
   "metadata": {
    "slideshow": {
     "slide_type": "slide"
    }
   },
   "source": [
    "## Conclusioni\n",
    "\n",
    "- tutto in python è un oggetto\n",
    "- usa le **proprietà** per una migliore impostazione/recupero degli attributi e insieme alle variabili private per un'encapsulazione completa\n",
    "- i **metodi speciali** possono ampliare notevolmente l'usabilità delle classi; implementa solo quelli di cui hai bisogno\n",
    "- le **dataclassi** possono facilitare notevolmente la creazione di classi."
   ]
  },
  {
   "cell_type": "code",
   "execution_count": null,
   "id": "052d3a6d",
   "metadata": {},
   "outputs": [],
   "source": []
  }
 ],
 "metadata": {
  "celltoolbar": "Slideshow",
  "kernelspec": {
   "display_name": "Python 3 (ipykernel)",
   "language": "python",
   "name": "python3"
  },
  "language_info": {
   "codemirror_mode": {
    "name": "ipython",
    "version": 3
   },
   "file_extension": ".py",
   "mimetype": "text/x-python",
   "name": "python",
   "nbconvert_exporter": "python",
   "pygments_lexer": "ipython3",
   "version": "3.9.13"
  }
 },
 "nbformat": 4,
 "nbformat_minor": 5
}
